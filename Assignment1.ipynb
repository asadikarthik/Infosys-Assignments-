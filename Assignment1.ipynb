{
  "nbformat": 4,
  "nbformat_minor": 0,
  "metadata": {
    "colab": {
      "provenance": []
    },
    "kernelspec": {
      "name": "python3",
      "display_name": "Python 3"
    },
    "language_info": {
      "name": "python"
    }
  },
  "cells": [
    {
      "cell_type": "code",
      "execution_count": 2,
      "metadata": {
        "colab": {
          "base_uri": "https://localhost:8080/"
        },
        "id": "OKvdMU05jqs9",
        "outputId": "7e29bc42-2cec-45ab-d4b9-e422f287ed9e"
      },
      "outputs": [
        {
          "output_type": "stream",
          "name": "stdout",
          "text": [
            "           ID              Name              Role  \\\n",
            "0  candidate1   Johnny Lawrence       UI Engineer   \n",
            "1  candidate2  Michelle Bradley    Data Scientist   \n",
            "2  candidate3      John Harrell     Data Engineer   \n",
            "3  candidate4        Erik Walls  Business Analyst   \n",
            "4  candidate5     Jeremy Powell  Business Analyst   \n",
            "\n",
            "                                          Transcript  \\\n",
            "0  Interviewer: Can you explain JavaScript?\\nCand...   \n",
            "1  Interviewer: Can you explain Machine Learning?...   \n",
            "2  Interviewer: Can you explain Big Data?\\nCandid...   \n",
            "3  Interviewer: Can you explain Stakeholder Commu...   \n",
            "4  Interviewer: Can you explain Requirement Gathe...   \n",
            "\n",
            "                                              Resume  \\\n",
            "0  Name: Johnny Lawrence\\nRole: UI Engineer\\nExpe...   \n",
            "1  Name: Michelle Bradley\\nRole: Data Scientist\\n...   \n",
            "2  Name: John Harrell\\nRole: Data Engineer\\nExper...   \n",
            "3  Name: Erik Walls\\nRole: Business Analyst\\nExpe...   \n",
            "4  Name: Jeremy Powell\\nRole: Business Analyst\\nE...   \n",
            "\n",
            "  Performance (select/reject)            Reason for decision  \\\n",
            "0                    Selected  Excellent technical knowledge   \n",
            "1                    Rejected           Poor business acumen   \n",
            "2                    Rejected  Insufficient technical skills   \n",
            "3                    Rejected             Lack of experience   \n",
            "4                    Selected  Excellent technical knowledge   \n",
            "\n",
            "                                     Job Description  \n",
            "0  Looking for a UI Engineer with skills in HTML,...  \n",
            "1  Looking for a Data Scientist with skills in Py...  \n",
            "2  Looking for a Data Engineer with skills in MLO...  \n",
            "3  Looking for a Business Analyst with skills in ...  \n",
            "4  Looking for a Business Analyst with skills in ...  \n"
          ]
        }
      ],
      "source": [
        "# Import necessary libraries\n",
        "import pandas as pd\n",
        "\n",
        "# Load the dataset\n",
        "file_path = '/content/sample_data/karthik_asadi_data.xlsx'  # Path to your dataset\n",
        "df = pd.read_excel(file_path)\n",
        "\n",
        "# Display the first few rows\n",
        "print(df.head())\n"
      ]
    },
    {
      "cell_type": "markdown",
      "source": [
        "**Data cleaning **"
      ],
      "metadata": {
        "id": "8WNtDOuHkTdn"
      }
    },
    {
      "cell_type": "code",
      "source": [
        "import re\n",
        "\n",
        "# Cleaning function\n",
        "def clean_text(text):\n",
        "    if isinstance(text, str):\n",
        "        return re.sub(r'\\W+', ' ', text).lower()\n",
        "    return \"\"\n",
        "\n",
        "# Apply cleaning\n",
        "df['Transcript'] = df['Transcript'].apply(clean_text)\n",
        "df['Resume'] = df['Resume'].apply(clean_text)\n",
        "df['Job Description'] = df['Job Description'].apply(clean_text)\n"
      ],
      "metadata": {
        "id": "gcq9ECFLkT2T"
      },
      "execution_count": 3,
      "outputs": []
    },
    {
      "cell_type": "markdown",
      "source": [
        "# **Feature Engineering**\n",
        "**3.1: Resume and JD Similarity**\n",
        "Calculate the cosine similarity between Resume and Job Description using TF-IDF."
      ],
      "metadata": {
        "id": "ylJcEjS3klx4"
      }
    },
    {
      "cell_type": "code",
      "source": [
        "from sklearn.feature_extraction.text import TfidfVectorizer\n",
        "from sklearn.metrics.pairwise import cosine_similarity\n",
        "\n",
        "tfidf = TfidfVectorizer()\n",
        "\n",
        "# Vectorize Resume and JD\n",
        "jd_vector = tfidf.fit_transform(df['Job Description'])\n",
        "resume_vector = tfidf.transform(df['Resume'])\n",
        "\n",
        "# Calculate similarity\n",
        "df['jd_resume_similarity'] = [cosine_similarity(jd, rv).flatten()[0] for jd, rv in zip(jd_vector, resume_vector)]\n"
      ],
      "metadata": {
        "id": "w3N8xY43kxLr"
      },
      "execution_count": 4,
      "outputs": []
    },
    {
      "cell_type": "markdown",
      "source": [
        "**3.2: Transcript and Resume Similarity**"
      ],
      "metadata": {
        "id": "vRorTGYtlXul"
      }
    },
    {
      "cell_type": "code",
      "source": [
        "# Vectorize Transcript\n",
        "transcript_vector = tfidf.transform(df['Transcript'])\n",
        "\n",
        "# Calculate similarity\n",
        "df['transcript_resume_similarity'] = [cosine_similarity(tv, rv).flatten()[0] for tv, rv in zip(transcript_vector, resume_vector)]\n"
      ],
      "metadata": {
        "id": "2P92ZUxak6FR"
      },
      "execution_count": 5,
      "outputs": []
    },
    {
      "cell_type": "markdown",
      "source": [
        "**3.3: Sentiment Analysis and Transcript Length**\n",
        "Use TextBlob to extract sentiment polarity and compute the length of the transcript."
      ],
      "metadata": {
        "id": "kfOlyyxElSHz"
      }
    },
    {
      "cell_type": "code",
      "source": [
        "from textblob import TextBlob\n",
        "\n",
        "# Sentiment analysis\n",
        "def get_sentiment(text):\n",
        "    return TextBlob(text).sentiment.polarity\n",
        "\n",
        "df['transcript_sentiment'] = df['Transcript'].apply(get_sentiment)\n",
        "\n",
        "# Transcript length\n",
        "df['transcript_length'] = df['Transcript'].apply(len)\n"
      ],
      "metadata": {
        "id": "d7j1aCJRk_TN"
      },
      "execution_count": 6,
      "outputs": []
    },
    {
      "cell_type": "markdown",
      "source": [
        "**3.4: Encode Target Variable**"
      ],
      "metadata": {
        "id": "AX1YTQhflMvO"
      }
    },
    {
      "cell_type": "code",
      "source": [
        "# Encode select/reject as 1/0\n",
        "df['target'] = df['Performance (select/reject)'].map({'Selected': 1, 'Rejected': 0})\n"
      ],
      "metadata": {
        "id": "bN-mEulplDKu"
      },
      "execution_count": 7,
      "outputs": []
    },
    {
      "cell_type": "markdown",
      "source": [
        "# **Split Dataset**\n",
        "Split the dataset into training (80%) and testing (20%) sets."
      ],
      "metadata": {
        "id": "y4bbI_DFlIgr"
      }
    },
    {
      "cell_type": "code",
      "source": [
        "from sklearn.model_selection import train_test_split\n",
        "\n",
        "# Features (X) and Target (y)\n",
        "X = df[['jd_resume_similarity', 'transcript_resume_similarity', 'transcript_sentiment', 'transcript_length']]\n",
        "y = df['target']\n",
        "\n",
        "# Train-test split\n",
        "X_train, X_test, y_train, y_test = train_test_split(X, y, test_size=0.2, random_state=42)\n",
        "\n",
        "print(\"Training set shape:\", X_train.shape)\n",
        "print(\"Testing set shape:\", X_test.shape)\n"
      ],
      "metadata": {
        "colab": {
          "base_uri": "https://localhost:8080/"
        },
        "id": "oZaDJygKl4gN",
        "outputId": "fdcad250-484c-4aea-ecd7-6e69062d8e29"
      },
      "execution_count": 12,
      "outputs": [
        {
          "output_type": "stream",
          "name": "stdout",
          "text": [
            "Training set shape: (400, 4)\n",
            "Testing set shape: (100, 4)\n"
          ]
        }
      ]
    },
    {
      "cell_type": "markdown",
      "source": [
        "# **Train Models**\n",
        "Train the models listed (Logistic Regression, Decision Tree, Random Forest, XGBoost) and evaluate them.\n",
        "\n",
        "**Logistic Regression**"
      ],
      "metadata": {
        "id": "sEm9l2S9mMo9"
      }
    },
    {
      "cell_type": "code",
      "source": [
        "from sklearn.linear_model import LogisticRegression\n",
        "from sklearn.metrics import accuracy_score, roc_auc_score\n",
        "\n",
        "lr = LogisticRegression()\n",
        "lr.fit(X_train, y_train)\n",
        "lr_pred = lr.predict(X_test)\n",
        "\n",
        "lr_acc = accuracy_score(y_test, lr_pred)\n",
        "lr_auc = roc_auc_score(y_test, lr_pred)\n",
        "print(f\"Logistic Regression - Accuracy: {lr_acc}, AUC: {lr_auc}\")\n"
      ],
      "metadata": {
        "colab": {
          "base_uri": "https://localhost:8080/"
        },
        "id": "Y6btbcJ6mVoO",
        "outputId": "0bd6cf7a-1e28-4918-89ef-ae86752ae84c"
      },
      "execution_count": 13,
      "outputs": [
        {
          "output_type": "stream",
          "name": "stdout",
          "text": [
            "Logistic Regression - Accuracy: 0.87, AUC: 0.8717532467532467\n"
          ]
        }
      ]
    },
    {
      "cell_type": "markdown",
      "source": [
        "**Decision Tree**"
      ],
      "metadata": {
        "id": "7m6ioEnqmx_i"
      }
    },
    {
      "cell_type": "code",
      "source": [
        "from sklearn.tree import DecisionTreeClassifier\n",
        "\n",
        "dt = DecisionTreeClassifier(random_state=42)\n",
        "dt.fit(X_train, y_train)\n",
        "dt_pred = dt.predict(X_test)\n",
        "\n",
        "dt_acc = accuracy_score(y_test, dt_pred)\n",
        "dt_auc = roc_auc_score(y_test, dt_pred)\n",
        "print(f\"Decision Tree - Accuracy: {dt_acc}, AUC: {dt_auc}\")\n"
      ],
      "metadata": {
        "colab": {
          "base_uri": "https://localhost:8080/"
        },
        "id": "JugLp_qUm13h",
        "outputId": "1437796e-dcba-484b-f1de-e6e8d6e18941"
      },
      "execution_count": 14,
      "outputs": [
        {
          "output_type": "stream",
          "name": "stdout",
          "text": [
            "Decision Tree - Accuracy: 0.78, AUC: 0.7816558441558441\n"
          ]
        }
      ]
    },
    {
      "cell_type": "markdown",
      "source": [
        "**Random Forest**"
      ],
      "metadata": {
        "id": "MmVR0r2Pm5Xm"
      }
    },
    {
      "cell_type": "code",
      "source": [
        "from sklearn.ensemble import RandomForestClassifier\n",
        "\n",
        "rf = RandomForestClassifier(random_state=42)\n",
        "rf.fit(X_train, y_train)\n",
        "rf_pred = rf.predict(X_test)\n",
        "\n",
        "rf_acc = accuracy_score(y_test, rf_pred)\n",
        "rf_auc = roc_auc_score(y_test, rf_pred)\n",
        "print(f\"Random Forest - Accuracy: {rf_acc}, AUC: {rf_auc}\")\n"
      ],
      "metadata": {
        "colab": {
          "base_uri": "https://localhost:8080/"
        },
        "id": "SwpHI1n3m-HW",
        "outputId": "7e3ad181-ab46-41c1-c008-05c578b0100e"
      },
      "execution_count": 15,
      "outputs": [
        {
          "output_type": "stream",
          "name": "stdout",
          "text": [
            "Random Forest - Accuracy: 0.86, AUC: 0.8530844155844155\n"
          ]
        }
      ]
    },
    {
      "cell_type": "markdown",
      "source": [
        "**XGBoost**"
      ],
      "metadata": {
        "id": "a5TH2TPpntj0"
      }
    },
    {
      "cell_type": "code",
      "source": [
        "from xgboost import XGBClassifier\n",
        "\n",
        "xgb = XGBClassifier(random_state=42, eval_metric='logloss')\n",
        "xgb.fit(X_train, y_train)\n",
        "xgb_pred = xgb.predict(X_test)\n",
        "\n",
        "xgb_acc = accuracy_score(y_test, xgb_pred)\n",
        "xgb_auc = roc_auc_score(y_test, xgb_pred)\n",
        "print(f\"XGBoost - Accuracy: {xgb_acc}, AUC: {xgb_auc}\")\n"
      ],
      "metadata": {
        "colab": {
          "base_uri": "https://localhost:8080/"
        },
        "id": "gqEXkErXnvaM",
        "outputId": "4cb192f7-c56b-463a-9e14-b0c7bf9f8160"
      },
      "execution_count": 17,
      "outputs": [
        {
          "output_type": "stream",
          "name": "stdout",
          "text": [
            "XGBoost - Accuracy: 0.82, AUC: 0.8173701298701299\n"
          ]
        }
      ]
    },
    {
      "cell_type": "markdown",
      "source": [
        "# **Model Comparison**\n",
        "Compile results into a dataframe for easier comparison."
      ],
      "metadata": {
        "id": "u7xNPNTloXTD"
      }
    },
    {
      "cell_type": "code",
      "source": [
        "model_performance = pd.DataFrame({\n",
        "    'Model': ['Logistic Regression', 'Decision Tree', 'Random Forest', 'XGBoost'],\n",
        "    'Accuracy': [lr_acc, dt_acc, rf_acc, xgb_acc],\n",
        "    'ROC_AUC': [lr_auc, dt_auc, rf_auc, xgb_auc]\n",
        "})\n",
        "\n",
        "print(model_performance.sort_values(by='Accuracy', ascending=False))\n"
      ],
      "metadata": {
        "colab": {
          "base_uri": "https://localhost:8080/"
        },
        "id": "vlW0lejrodVX",
        "outputId": "a47b0c4c-1570-4660-8953-495fcccd0c17"
      },
      "execution_count": 18,
      "outputs": [
        {
          "output_type": "stream",
          "name": "stdout",
          "text": [
            "                 Model  Accuracy   ROC_AUC\n",
            "0  Logistic Regression      0.87  0.871753\n",
            "2        Random Forest      0.86  0.853084\n",
            "3              XGBoost      0.82  0.817370\n",
            "1        Decision Tree      0.78  0.781656\n"
          ]
        }
      ]
    },
    {
      "cell_type": "markdown",
      "source": [
        "# **Hyperparameter Tuning**\n",
        "Use GridSearchCV to optimize model parameters for Random Forest and XGBoost."
      ],
      "metadata": {
        "id": "-H1F5QRKol1U"
      }
    },
    {
      "cell_type": "markdown",
      "source": [
        "**for Random Forest Tuning**"
      ],
      "metadata": {
        "id": "MrEw2Q2Zov0D"
      }
    },
    {
      "cell_type": "code",
      "source": [
        "from sklearn.model_selection import GridSearchCV\n",
        "\n",
        "param_grid = {'n_estimators': [50, 100, 200], 'max_depth': [3, 5, 10]}\n",
        "grid = GridSearchCV(RandomForestClassifier(random_state=42), param_grid, cv=5, scoring='roc_auc')\n",
        "grid.fit(X_train, y_train)\n",
        "\n",
        "best_rf = grid.best_estimator_\n",
        "best_rf_pred = best_rf.predict(X_test)\n",
        "print(f\"Tuned Random Forest - AUC: {roc_auc_score(y_test, best_rf_pred)}\")\n"
      ],
      "metadata": {
        "colab": {
          "base_uri": "https://localhost:8080/"
        },
        "id": "b0UakzEJo64k",
        "outputId": "c163bebd-52f3-44c0-dfd8-1eecae5c746e"
      },
      "execution_count": 19,
      "outputs": [
        {
          "output_type": "stream",
          "name": "stdout",
          "text": [
            "Tuned Random Forest - AUC: 0.8506493506493507\n"
          ]
        }
      ]
    },
    {
      "cell_type": "markdown",
      "source": [],
      "metadata": {
        "id": "SF8xSE7yo0XR"
      }
    },
    {
      "cell_type": "code",
      "source": [
        "import matplotlib.pyplot as plt\n",
        "\n",
        "# Collect results from models\n",
        "results = {\n",
        "    'Model': ['Logistic Regression', 'Decision Tree', 'Random Forest', 'XGBoost'],\n",
        "    'Accuracy': [lr_acc, dt_acc, rf_acc, xgb_acc],\n",
        "    'ROC_AUC': [lr_auc, dt_auc, rf_auc, xgb_auc]\n",
        "}\n",
        "\n",
        "# Convert to DataFrame for analysis\n",
        "model_comparison = pd.DataFrame(results)\n",
        "\n",
        "# Plot comparison\n",
        "fig, ax = plt.subplots(1, 2, figsize=(14, 6))\n",
        "\n",
        "# Accuracy bar plot\n",
        "ax[0].barh(model_comparison['Model'], model_comparison['Accuracy'], color='skyblue')\n",
        "ax[0].set_title('Model Accuracy Comparison')\n",
        "ax[0].set_xlabel('Accuracy')\n",
        "ax[0].set_xlim(0, 1)\n",
        "ax[0].grid(True)\n",
        "\n",
        "# ROC AUC bar plot\n",
        "ax[1].barh(model_comparison['Model'], model_comparison['ROC_AUC'], color='orange')\n",
        "ax[1].set_title('Model ROC AUC Comparison')\n",
        "ax[1].set_xlabel('ROC AUC')\n",
        "ax[1].set_xlim(0, 1)\n",
        "ax[1].grid(True)\n",
        "\n",
        "plt.tight_layout()\n",
        "plt.show()\n"
      ],
      "metadata": {
        "colab": {
          "base_uri": "https://localhost:8080/",
          "height": 607
        },
        "id": "lWt5XZoRwpaU",
        "outputId": "47e2f56e-bdaf-4f6c-e249-776fc542bef4"
      },
      "execution_count": 22,
      "outputs": [
        {
          "output_type": "display_data",
          "data": {
            "text/plain": [
              "<Figure size 1400x600 with 2 Axes>"
            ],
            "image/png": "[encoded data removed]"
          },
          "metadata": {}
        }
      ]
    },
    {
      "cell_type": "markdown",
      "source": [
        "# **Visualize the ROC Curves of All Models**"
      ],
      "metadata": {
        "id": "fepNWyQ_xqHp"
      }
    },
    {
      "cell_type": "code",
      "source": [
        "# Logistic Regression ROC\n",
        "lr_prob = lr.predict_proba(X_test)[:, 1]\n",
        "lr_fpr, lr_tpr, _ = roc_curve(y_test, lr_prob)\n",
        "\n",
        "# Decision Tree ROC\n",
        "dt_prob = dt.predict_proba(X_test)[:, 1]\n",
        "dt_fpr, dt_tpr, _ = roc_curve(y_test, dt_prob)\n",
        "\n",
        "# Random Forest ROC\n",
        "rf_prob = rf.predict_proba(X_test)[:, 1]\n",
        "rf_fpr, rf_tpr, _ = roc_curve(y_test, rf_prob)\n",
        "\n",
        "# XGBoost ROC\n",
        "xgb_prob = xgb.predict_proba(X_test)[:, 1]\n",
        "xgb_fpr, xgb_tpr, _ = roc_curve(y_test, xgb_prob)\n",
        "\n",
        "# Plot all ROC curves\n",
        "plt.figure(figsize=(10, 8))\n",
        "plt.plot(lr_fpr, lr_tpr, label=f'Logistic Regression (AUC = {lr_auc:.2f})')\n",
        "plt.plot(dt_fpr, dt_tpr, label=f'Decision Tree (AUC = {dt_auc:.2f})')\n",
        "plt.plot(rf_fpr, rf_tpr, label=f'Random Forest (AUC = {rf_auc:.2f})')\n",
        "plt.plot(xgb_fpr, xgb_tpr, label=f'XGBoost (AUC = {xgb_auc:.2f})')\n",
        "\n",
        "# Plot diagonal line\n",
        "plt.plot([0, 1], [0, 1], 'k--')\n",
        "\n",
        "plt.title('ROC Curves for All Models')\n",
        "plt.xlabel('False Positive Rate')\n",
        "plt.ylabel('True Positive Rate')\n",
        "plt.legend(loc='lower right')\n",
        "plt.grid()\n",
        "plt.show()\n"
      ],
      "metadata": {
        "colab": {
          "base_uri": "https://localhost:8080/",
          "height": 718
        },
        "id": "ojeIA-9ZxsN1",
        "outputId": "064b2e09-1961-4fc9-aaac-4b7463f350f4"
      },
      "execution_count": 23,
      "outputs": [
        {
          "output_type": "display_data",
          "data": {
            "text/plain": [
              "<Figure size 1000x800 with 1 Axes>"
            ],
            "image/png": "[encoded data removed]"
          },
          "metadata": {}
        }
      ]
    },
    {
      "cell_type": "markdown",
      "source": [
        "\n",
        "\n",
        "Based on the Accuracy and AUC values, identify the best model:"
      ],
      "metadata": {
        "id": "4L3JOxC5x8wv"
      }
    },
    {
      "cell_type": "code",
      "source": [
        "# Identify the best model\n",
        "best_model = model_comparison.loc[model_comparison['Accuracy'].idxmax()]\n",
        "print(f\"The best model is {best_model['Model']} with Accuracy: {best_model['Accuracy']:.2f} and AUC: {best_model['ROC_AUC']:.2f}\")\n"
      ],
      "metadata": {
        "colab": {
          "base_uri": "https://localhost:8080/"
        },
        "id": "Kk2IQ2SOx_xA",
        "outputId": "2f8cbd48-3809-43a6-e9b4-da92dc9b18ef"
      },
      "execution_count": 24,
      "outputs": [
        {
          "output_type": "stream",
          "name": "stdout",
          "text": [
            "The best model is Logistic Regression with Accuracy: 0.87 and AUC: 0.87\n"
          ]
        }
      ]
    },
    {
      "cell_type": "code",
      "source": [
        "from sklearn.linear_model import LogisticRegression\n",
        "from sklearn.metrics import accuracy_score, roc_auc_score\n",
        "import joblib\n",
        "\n",
        "# Training Phase: Save the state\n",
        "lr = LogisticRegression()\n",
        "lr.fit(X_train, y_train)\n",
        "joblib.dump(lr, 'logistic_regression_model.pkl')  # Save the model\n",
        "print(\"Logistic Regression model saved!\")\n",
        "\n",
        "# Prediction Phase: Load the state\n",
        "loaded_lr = joblib.load('logistic_regression_model.pkl')  # Load the model\n",
        "lr_pred = loaded_lr.predict(X_test)\n",
        "\n",
        "# Evaluate the model\n",
        "lr_acc = accuracy_score(y_test, lr_pred)\n",
        "lr_auc = roc_auc_score(y_test, lr_pred)\n",
        "print(f\"Loaded Logistic Regression - Accuracy: {lr_acc:.2f}, AUC: {lr_auc:.2f}\")\n"
      ],
      "metadata": {
        "colab": {
          "base_uri": "https://localhost:8080/"
        },
        "id": "LnrzVQPCyaJk",
        "outputId": "e4352534-fccb-40a2-f17c-27f581965c35"
      },
      "execution_count": 25,
      "outputs": [
        {
          "output_type": "stream",
          "name": "stdout",
          "text": [
            "Logistic Regression model saved!\n",
            "Loaded Logistic Regression - Accuracy: 0.87, AUC: 0.87\n"
          ]
        }
      ]
    },
    {
      "cell_type": "code",
      "source": [
        "# Combine metrics into a DataFrame\n",
        "performance_df = pd.DataFrame({\n",
        "    \"Model\": [\"Logistic Regression\", \"Decision Tree\", \"Random Forest\", \"XGBoost\"],\n",
        "    \"Accuracy\": [lr_metrics[\"Accuracy\"], dt_metrics[\"Accuracy\"], rf_metrics[\"Accuracy\"], xgb_metrics[\"Accuracy\"]],\n",
        "    \"Precision\": [lr_metrics[\"Precision\"], dt_metrics[\"Precision\"], rf_metrics[\"Precision\"], xgb_metrics[\"Precision\"]],\n",
        "    \"Recall\": [lr_metrics[\"Recall\"], dt_metrics[\"Recall\"], rf_metrics[\"Recall\"], xgb_metrics[\"Recall\"]],\n",
        "    \"F1-Score\": [lr_metrics[\"F1-Score\"], dt_metrics[\"F1-Score\"], rf_metrics[\"F1-Score\"], xgb_metrics[\"F1-Score\"]],\n",
        "    \"AUC\": [lr_metrics[\"AUC\"], dt_metrics[\"AUC\"], rf_metrics[\"AUC\"], xgb_metrics[\"AUC\"]]\n",
        "})\n",
        "\n",
        "# Sort the table by Accuracy (or any other metric)\n",
        "performance_df = performance_df.sort_values(by=\"Accuracy\", ascending=False)\n",
        "\n",
        "# Print the table\n",
        "print(performance_df)\n"
      ],
      "metadata": {
        "colab": {
          "base_uri": "https://localhost:8080/"
        },
        "id": "uPLc3g5hzUnr",
        "outputId": "2d279391-fb99-492c-a083-bc2b27616dde"
      },
      "execution_count": 28,
      "outputs": [
        {
          "output_type": "stream",
          "name": "stdout",
          "text": [
            "                 Model  Accuracy  Precision    Recall  F1-Score       AUC\n",
            "0  Logistic Regression      0.87   0.905660  0.857143  0.880734  0.871753\n",
            "2        Random Forest      0.86   0.850000  0.910714  0.879310  0.853084\n",
            "3              XGBoost      0.82   0.839286  0.839286  0.839286  0.817370\n",
            "1        Decision Tree      0.78   0.826923  0.767857  0.796296  0.781656\n"
          ]
        }
      ]
    }
  ]
}